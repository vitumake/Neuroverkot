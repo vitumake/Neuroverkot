{
 "cells": [
  {
   "cell_type": "code",
   "execution_count": 55,
   "metadata": {},
   "outputs": [],
   "source": [
    "import numpy as np\n",
    "import math\n",
    "\n",
    "A0 = np.matrix([\n",
    "    [3], \n",
    "    [2], \n",
    "    [5]\n",
    "])\n",
    "\n",
    "W1 = np.matrix([\n",
    "    [1.1, -1.3, 1.5], \n",
    "    [0.1,  2.0, 1.7]\n",
    "])\n",
    "\n",
    "W2 = np.matrix([[2.0, -1.2]])\n"
   ]
  },
  {
   "cell_type": "code",
   "execution_count": 56,
   "metadata": {},
   "outputs": [
    {
     "name": "stdout",
     "output_type": "stream",
     "text": [
      "[[ 8.2]\n",
      " [12.8]]\n",
      "[[1.04]]\n"
     ]
    }
   ],
   "source": [
    "# Teht1\n",
    "\n",
    "# Because we use the numpy matrises\n",
    "# we can use a normal multiplication operand\n",
    "\n",
    "A1 = W1*A0\n",
    "A2 = W2*A1\n",
    "\n",
    "print(A1)\n",
    "print(A2)"
   ]
  },
  {
   "cell_type": "code",
   "execution_count": 57,
   "metadata": {},
   "outputs": [
    {
     "name": "stdout",
     "output_type": "stream",
     "text": [
      "A1 = [[0.99972542]\n",
      " [0.99999724]]\n",
      "A2 = [[0.68985771]]\n"
     ]
    }
   ],
   "source": [
    "# Teht2\n",
    "\n",
    "# Sigmoid\n",
    "def sigmoid(val):\n",
    "    return 1/(1+pow(math.e, val*-1))\n",
    "\n",
    "# Apply sigmoid activator to matrix\n",
    "def sigmoid_matrix(matrix):\n",
    "    new_matrix = matrix\n",
    "    for i, val, in np.ndenumerate(matrix):\n",
    "        new_matrix[i] = sigmoid(val)\n",
    "    return new_matrix\n",
    "\n",
    "A1_A = sigmoid_matrix(W1*A0)\n",
    "\n",
    "print(\"A1 = %s\" % (A1_A))\n",
    "print(\"A2 = %s\" % (sigmoid_matrix(W2*A1_A)))"
   ]
  }
 ],
 "metadata": {
  "kernelspec": {
   "display_name": "Python 3",
   "language": "python",
   "name": "python3"
  },
  "language_info": {
   "codemirror_mode": {
    "name": "ipython",
    "version": 3
   },
   "file_extension": ".py",
   "mimetype": "text/x-python",
   "name": "python",
   "nbconvert_exporter": "python",
   "pygments_lexer": "ipython3",
   "version": "3.12.0"
  }
 },
 "nbformat": 4,
 "nbformat_minor": 2
}
